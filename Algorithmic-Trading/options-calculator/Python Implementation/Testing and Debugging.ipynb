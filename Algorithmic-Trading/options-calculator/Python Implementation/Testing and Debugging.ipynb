{
 "cells": [
  {
   "cell_type": "markdown",
   "metadata": {},
   "source": [
    "## Imports"
   ]
  },
  {
   "cell_type": "markdown",
   "metadata": {},
   "source": [
    "#### Importing necessary modules"
   ]
  },
  {
   "cell_type": "code",
   "execution_count": 1,
   "metadata": {},
   "outputs": [],
   "source": [
    "import pandas as pd\n",
    "\n",
    "from OptionsChain import OptionsChain\n",
    "from CallObject import Call\n",
    "from PutObject import Put\n",
    "import datetime as dt\n",
    "\n",
    "from OptionStrategyObject import OptionStrategy\n",
    "from OpportunityScreener import OpportunityScreener"
   ]
  },
  {
   "cell_type": "markdown",
   "metadata": {},
   "source": [
    "## Test Data"
   ]
  },
  {
   "cell_type": "markdown",
   "metadata": {},
   "source": [
    "#### Setting up fake test data for speed"
   ]
  },
  {
   "cell_type": "code",
   "execution_count": null,
   "metadata": {},
   "outputs": [],
   "source": [
    "underlying_symbol = \"AAPL\"\n",
    "underlying_price = 197"
   ]
  },
  {
   "cell_type": "code",
   "execution_count": null,
   "metadata": {},
   "outputs": [],
   "source": [
    "info_series_dict = {}\n",
    "info_series_dict[\"expirationDate\"] = dt.datetime.today()+dt.timedelta(10)\n",
    "info_series_dict[\"strike\"] = 200\n",
    "info_series_dict[\"bid\"] = 2\n",
    "info_series_dict[\"ask\"] = 4\n",
    "info_series_dict[\"volume\"] = 200\n",
    "info_series_dict[\"impliedVolatility\"] = 50\n",
    "info_series = pd.Series(info_series_dict)\n",
    "\n",
    "is_long = True\n",
    "info_series"
   ]
  },
  {
   "cell_type": "markdown",
   "metadata": {},
   "source": [
    "## Testing OptionsChain Object"
   ]
  },
  {
   "cell_type": "markdown",
   "metadata": {},
   "source": [
    "#### Using the OptionsChain object to get real data"
   ]
  },
  {
   "cell_type": "code",
   "execution_count": null,
   "metadata": {
    "scrolled": true
   },
   "outputs": [],
   "source": [
    "import time\n",
    "\n",
    "if True:\n",
    "    \n",
    "    start = time.time()\n",
    "    \n",
    "    option_chain = OptionsChain(underlying_symbol, underlying_price)\n",
    "    call_df = option_chain.call_chain\n",
    "    put_df = option_chain.put_chain\n",
    "    \n",
    "    end = time.time()"
   ]
  },
  {
   "cell_type": "code",
   "execution_count": null,
   "metadata": {},
   "outputs": [],
   "source": [
    "print(end - start)"
   ]
  },
  {
   "cell_type": "markdown",
   "metadata": {},
   "source": [
    "#### Testing the filtering method"
   ]
  },
  {
   "cell_type": "code",
   "execution_count": null,
   "metadata": {},
   "outputs": [],
   "source": [
    "option_chain.call_chain.dtypes"
   ]
  },
  {
   "cell_type": "code",
   "execution_count": null,
   "metadata": {},
   "outputs": [],
   "source": [
    "is_long = True\n",
    "option_type = 'CALL'\n",
    "\n",
    "params_dict = {'strike':('>', 300), 'Description':('c', 'ITM')}"
   ]
  },
  {
   "cell_type": "code",
   "execution_count": null,
   "metadata": {},
   "outputs": [],
   "source": [
    "test_list = option_chain.get_filtered_options_list(params_dict, option_type, is_long)"
   ]
  },
  {
   "cell_type": "code",
   "execution_count": null,
   "metadata": {},
   "outputs": [],
   "source": [
    "for option in test_list:\n",
    "    print(option.type, option.strike_price, option.description)"
   ]
  },
  {
   "cell_type": "markdown",
   "metadata": {},
   "source": [
    "#### More filtering tests"
   ]
  },
  {
   "cell_type": "code",
   "execution_count": null,
   "metadata": {},
   "outputs": [],
   "source": [
    "is_long_1 = True\n",
    "option_type_1 = 'Put'\n",
    "params_dict_1 = {'Time Interval (days)':[('<', 30), ('>', 8)], \n",
    "                 'Description':[('in', 'ITM, ATM')]}\n",
    "\n",
    "is_long_2 = False\n",
    "option_type_2 = 'CALL'\n",
    "params_dict_2 = {'Time Interval (days)':('<', 10), 'Description':('c', 'OTM')}"
   ]
  },
  {
   "cell_type": "code",
   "execution_count": null,
   "metadata": {},
   "outputs": [],
   "source": [
    "list_1 = option_chain.get_filtered_options_list(params_dict_1, option_type_1, is_long_1)\n",
    "list_2 = option_chain.get_filtered_options_list(params_dict_2, option_type_2, is_long_2)"
   ]
  },
  {
   "cell_type": "markdown",
   "metadata": {},
   "source": [
    "## Testing the Call and Put Objects"
   ]
  },
  {
   "cell_type": "markdown",
   "metadata": {},
   "source": [
    "#### Initializing the Call and Put Instances"
   ]
  },
  {
   "cell_type": "code",
   "execution_count": null,
   "metadata": {},
   "outputs": [],
   "source": [
    "test_call = Call(underlying_symbol, underlying_price, info_series, is_long)\n",
    "test_put = Put(underlying_symbol, underlying_price, info_series, is_long)"
   ]
  },
  {
   "cell_type": "markdown",
   "metadata": {},
   "source": [
    "#### Testing the ouput summary stats methods"
   ]
  },
  {
   "cell_type": "code",
   "execution_count": null,
   "metadata": {},
   "outputs": [],
   "source": [
    "test_call.output_summary_stats()\n",
    "print(\"-----------------------\")\n",
    "test_put.output_summary_stats()"
   ]
  },
  {
   "cell_type": "markdown",
   "metadata": {},
   "source": [
    "#### Testing the Visualization Methods"
   ]
  },
  {
   "cell_type": "code",
   "execution_count": null,
   "metadata": {},
   "outputs": [],
   "source": [
    "#test_call.visualize_profit_graph_new_price()\n",
    "test_call.visualize_profit_graph_price_change()\n",
    "\n",
    "#test_put.visualize_profit_graph_new_price()\n",
    "test_put.visualize_profit_graph_price_change()"
   ]
  },
  {
   "cell_type": "markdown",
   "metadata": {},
   "source": [
    "## Testing Spreads"
   ]
  },
  {
   "cell_type": "code",
   "execution_count": null,
   "metadata": {},
   "outputs": [],
   "source": [
    "underlying_symbol = \"XYZ\"\n",
    "underlying_price = 50"
   ]
  },
  {
   "cell_type": "code",
   "execution_count": null,
   "metadata": {},
   "outputs": [],
   "source": [
    "info_series_dict_1 = {}\n",
    "info_series_dict_1[\"expirationDate\"] = dt.datetime.today()+dt.timedelta(10)\n",
    "info_series_dict_1[\"strike\"] = 50\n",
    "info_series_dict_1[\"bid\"] = 3\n",
    "info_series_dict_1[\"ask\"] = 3\n",
    "info_series_dict_1[\"volume\"] = 200\n",
    "info_series_dict_1[\"impliedVolatility\"] = 50\n",
    "info_series_1 = pd.Series(info_series_dict_1)\n",
    "\n",
    "is_long_1 = True"
   ]
  },
  {
   "cell_type": "code",
   "execution_count": null,
   "metadata": {},
   "outputs": [],
   "source": [
    "info_series_dict_2 = {}\n",
    "info_series_dict_2[\"expirationDate\"] = dt.datetime.today()+dt.timedelta(15)\n",
    "info_series_dict_2[\"strike\"] = 50\n",
    "info_series_dict_2[\"bid\"] = 3\n",
    "info_series_dict_2[\"ask\"] = 3\n",
    "info_series_dict_2[\"volume\"] = 200\n",
    "info_series_dict_2[\"impliedVolatility\"] = 50\n",
    "info_series_2 = pd.Series(info_series_dict_2)\n",
    "\n",
    "is_long_2 = True"
   ]
  },
  {
   "cell_type": "code",
   "execution_count": null,
   "metadata": {
    "scrolled": false
   },
   "outputs": [],
   "source": [
    "long_call = Call(underlying_symbol, underlying_price, info_series_1, is_long_1)\n",
    "long_put = Put(underlying_symbol, underlying_price, info_series_2, is_long_2)"
   ]
  },
  {
   "cell_type": "code",
   "execution_count": null,
   "metadata": {},
   "outputs": [],
   "source": [
    "strategy_name = \"Long Straddle\"\n",
    "direction = \"Bear\"\n",
    "option_legs = [long_call, long_put]"
   ]
  },
  {
   "cell_type": "code",
   "execution_count": null,
   "metadata": {},
   "outputs": [],
   "source": [
    "test_spread = OptionStrategy(strategy_name, direction, underlying_symbol, underlying_price, option_legs)"
   ]
  },
  {
   "cell_type": "code",
   "execution_count": null,
   "metadata": {
    "scrolled": true
   },
   "outputs": [],
   "source": [
    "test_spread.output_summary_stats()"
   ]
  },
  {
   "cell_type": "code",
   "execution_count": null,
   "metadata": {},
   "outputs": [],
   "source": [
    "price_range = (45, 55)\n",
    "test_table = test_spread.get_profit_loss_table(price_range)\n",
    "test_table"
   ]
  },
  {
   "cell_type": "code",
   "execution_count": null,
   "metadata": {
    "scrolled": true
   },
   "outputs": [],
   "source": [
    "test_spread.visualize_profit_graph_new_price()"
   ]
  },
  {
   "cell_type": "code",
   "execution_count": null,
   "metadata": {},
   "outputs": [],
   "source": [
    "test_spread.visualize_profit_graph_price_change()"
   ]
  },
  {
   "cell_type": "markdown",
   "metadata": {},
   "source": [
    "## Testing Opportunity Screener"
   ]
  },
  {
   "cell_type": "code",
   "execution_count": 2,
   "metadata": {
    "scrolled": true
   },
   "outputs": [
    {
     "name": "stdout",
     "output_type": "stream",
     "text": [
      "expirationDate                  object\n",
      "strike                         float64\n",
      "bid                            float64\n",
      "ask                            float64\n",
      "volume                         float64\n",
      "impliedVolatility              float64\n",
      "Underlying Price               float64\n",
      "Description                     object\n",
      "Premium                        float64\n",
      "Intrinsic Value                float64\n",
      "Time Value                     float64\n",
      "Expiration Date         datetime64[ns]\n",
      "Time Interval (days)             int64\n",
      "dtype: object\n"
     ]
    }
   ],
   "source": [
    "underlying_symbol = \"AAPL\"\n",
    "underlying_price = 318.89\n",
    "target_price = 350\n",
    "timeframe = 8\n",
    "options_chain = OptionsChain(underlying_symbol, underlying_price)"
   ]
  },
  {
   "cell_type": "code",
   "execution_count": 3,
   "metadata": {},
   "outputs": [],
   "source": [
    "test_screener = OpportunityScreener(options_chain, target_price, timeframe)    "
   ]
  },
  {
   "cell_type": "code",
   "execution_count": 4,
   "metadata": {
    "scrolled": false
   },
   "outputs": [
    {
     "name": "stdout",
     "output_type": "stream",
     "text": [
      "0 -------------\n",
      "Bear Put Spread: 0\n",
      "Runtime: 0.013039112091064453\n",
      "1 -------------\n",
      "Bear Call Spread: 1\n",
      "Runtime: 0.01689004898071289\n",
      "2 -------------\n",
      "Bull Put Spread: 0\n",
      "Runtime: 0.011140823364257812\n",
      "3 -------------\n",
      "Bull Call Spread: 0\n",
      "Runtime: 0.011764049530029297\n",
      "4 -------------\n",
      "Long Straddle: 0\n",
      "Runtime: 0.0123291015625\n",
      "5 -------------\n",
      "Long Strangle: 0\n",
      "Runtime: 0.012511014938354492\n",
      "6 -------------\n",
      "Iron Condor: 0\n",
      "Runtime: 0.02422022819519043\n",
      "7 -------------\n",
      "Iron Butterfly: 0\n",
      "Runtime: 0.023067235946655273\n"
     ]
    }
   ],
   "source": [
    "df = test_screener.output_summary_stats()"
   ]
  },
  {
   "cell_type": "code",
   "execution_count": 5,
   "metadata": {},
   "outputs": [
    {
     "data": {
      "text/html": [
       "<div>\n",
       "<style scoped>\n",
       "    .dataframe tbody tr th:only-of-type {\n",
       "        vertical-align: middle;\n",
       "    }\n",
       "\n",
       "    .dataframe tbody tr th {\n",
       "        vertical-align: top;\n",
       "    }\n",
       "\n",
       "    .dataframe thead th {\n",
       "        text-align: right;\n",
       "    }\n",
       "</style>\n",
       "<table border=\"1\" class=\"dataframe\">\n",
       "  <thead>\n",
       "    <tr style=\"text-align: right;\">\n",
       "      <th></th>\n",
       "      <th>Spread</th>\n",
       "      <th>Premium</th>\n",
       "      <th>Risk:Reward</th>\n",
       "      <th>Net Premium</th>\n",
       "      <th>Capital Committed</th>\n",
       "      <th>Max Profit</th>\n",
       "      <th>Max Loss</th>\n",
       "      <th>Legs</th>\n",
       "    </tr>\n",
       "    <tr>\n",
       "      <th>Strategy Name</th>\n",
       "      <th></th>\n",
       "      <th></th>\n",
       "      <th></th>\n",
       "      <th></th>\n",
       "      <th></th>\n",
       "      <th></th>\n",
       "      <th></th>\n",
       "      <th></th>\n",
       "    </tr>\n",
       "  </thead>\n",
       "  <tbody>\n",
       "    <tr>\n",
       "      <th>Bear Call Spread</th>\n",
       "      <td>&lt;OptionStrategyObject.OptionStrategy object at...</td>\n",
       "      <td>[163.2, -183.35]</td>\n",
       "      <td>1.0</td>\n",
       "      <td>-20.15</td>\n",
       "      <td>0</td>\n",
       "      <td>20.15</td>\n",
       "      <td>0.15</td>\n",
       "      <td>[AAPL200917C0012500, AAPL200917C0010500]</td>\n",
       "    </tr>\n",
       "  </tbody>\n",
       "</table>\n",
       "</div>"
      ],
      "text/plain": [
       "                                                             Spread  \\\n",
       "Strategy Name                                                         \n",
       "Bear Call Spread  <OptionStrategyObject.OptionStrategy object at...   \n",
       "\n",
       "                           Premium  Risk:Reward  Net Premium  \\\n",
       "Strategy Name                                                  \n",
       "Bear Call Spread  [163.2, -183.35]          1.0       -20.15   \n",
       "\n",
       "                  Capital Committed  Max Profit  Max Loss  \\\n",
       "Strategy Name                                               \n",
       "Bear Call Spread                  0       20.15      0.15   \n",
       "\n",
       "                                                      Legs  \n",
       "Strategy Name                                               \n",
       "Bear Call Spread  [AAPL200917C0012500, AAPL200917C0010500]  "
      ]
     },
     "execution_count": 5,
     "metadata": {},
     "output_type": "execute_result"
    }
   ],
   "source": [
    "df"
   ]
  },
  {
   "cell_type": "code",
   "execution_count": 6,
   "metadata": {},
   "outputs": [
    {
     "data": {
      "image/png": "[encoded data removed]",
      "text/plain": [
       "<Figure size 432x288 with 1 Axes>"
      ]
     },
     "metadata": {
      "needs_background": "light"
     },
     "output_type": "display_data"
    }
   ],
   "source": [
    "for spread in df[\"Spread\"].tolist():\n",
    "    spread.visualize_profit_graph_new_price()"
   ]
  },
  {
   "cell_type": "markdown",
   "metadata": {},
   "source": [
    "- Look into the risk:reward ratio and make sure its working properly. Above graphs are funky.\n",
    "- Also look into why some of the graphs aren't graphing everything and are incomplete.\n",
    "- Finish Commenting everything\n",
    "- Make docstring"
   ]
  },
  {
   "cell_type": "code",
   "execution_count": null,
   "metadata": {},
   "outputs": [],
   "source": []
  }
 ],
 "metadata": {
  "kernelspec": {
   "display_name": "Python 3",
   "language": "python",
   "name": "python3"
  },
  "language_info": {
   "codemirror_mode": {
    "name": "ipython",
    "version": 3
   },
   "file_extension": ".py",
   "mimetype": "text/x-python",
   "name": "python",
   "nbconvert_exporter": "python",
   "pygments_lexer": "ipython3",
   "version": "3.7.6"
  }
 },
 "nbformat": 4,
 "nbformat_minor": 4
}
